{
 "cells": [
  {
   "cell_type": "code",
   "execution_count": 2,
   "metadata": {},
   "outputs": [],
   "source": [
    "import pickle\n",
    "import numpy as np\n",
    "import pandas as pd\n",
    "import matplotlib.pyplot as plt\n",
    "\n",
    "import sys\n",
    "sys.path.append('../')\n",
    "sys.path.append('../utils/')\n",
    "sys.path.append('../brisque')\n",
    "import imquality.brisque as brisque\n",
    "from brisque import BRISQUE\n",
    "from test_model import mean_absolute_percentage_error as mape\n",
    "\n",
    "import warnings\n",
    "warnings.filterwarnings(\"ignore\")\n",
    "\n",
    "from sklearn.svm import SVR\n",
    "from sklearn.pipeline import Pipeline\n",
    "from sklearn.model_selection import GridSearchCV"
   ]
  },
  {
   "cell_type": "code",
   "execution_count": 3,
   "metadata": {},
   "outputs": [],
   "source": [
    "with open('label_with_brisk_features_map.pickle', 'rb') as f:\n",
    "    imgs = pickle.load(f)"
   ]
  },
  {
   "cell_type": "code",
   "execution_count": 4,
   "metadata": {},
   "outputs": [],
   "source": [
    "X = [imgs[img][1] for img in imgs]\n",
    "Y = [imgs[img][0] for img in imgs]\n"
   ]
  },
  {
   "cell_type": "code",
   "execution_count": 9,
   "metadata": {},
   "outputs": [],
   "source": [
    "import pandas as pd\n"
   ]
  },
  {
   "cell_type": "code",
   "execution_count": 11,
   "metadata": {},
   "outputs": [
    {
     "data": {
      "text/html": [
       "<div>\n",
       "<style scoped>\n",
       "    .dataframe tbody tr th:only-of-type {\n",
       "        vertical-align: middle;\n",
       "    }\n",
       "\n",
       "    .dataframe tbody tr th {\n",
       "        vertical-align: top;\n",
       "    }\n",
       "\n",
       "    .dataframe thead th {\n",
       "        text-align: right;\n",
       "    }\n",
       "</style>\n",
       "<table border=\"1\" class=\"dataframe\">\n",
       "  <thead>\n",
       "    <tr style=\"text-align: right;\">\n",
       "      <th></th>\n",
       "      <th>0</th>\n",
       "      <th>1</th>\n",
       "      <th>2</th>\n",
       "      <th>3</th>\n",
       "      <th>4</th>\n",
       "      <th>5</th>\n",
       "      <th>6</th>\n",
       "      <th>7</th>\n",
       "      <th>8</th>\n",
       "      <th>9</th>\n",
       "      <th>...</th>\n",
       "      <th>26</th>\n",
       "      <th>27</th>\n",
       "      <th>28</th>\n",
       "      <th>29</th>\n",
       "      <th>30</th>\n",
       "      <th>31</th>\n",
       "      <th>32</th>\n",
       "      <th>33</th>\n",
       "      <th>34</th>\n",
       "      <th>35</th>\n",
       "    </tr>\n",
       "  </thead>\n",
       "  <tbody>\n",
       "    <tr>\n",
       "      <th>count</th>\n",
       "      <td>1053.000000</td>\n",
       "      <td>1053.000000</td>\n",
       "      <td>1053.000000</td>\n",
       "      <td>1053.000000</td>\n",
       "      <td>1053.000000</td>\n",
       "      <td>1053.000000</td>\n",
       "      <td>1053.000000</td>\n",
       "      <td>1053.000000</td>\n",
       "      <td>1053.000000</td>\n",
       "      <td>1053.000000</td>\n",
       "      <td>...</td>\n",
       "      <td>1053.000000</td>\n",
       "      <td>1053.000000</td>\n",
       "      <td>1053.000000</td>\n",
       "      <td>1053.000000</td>\n",
       "      <td>1053.000000</td>\n",
       "      <td>1053.000000</td>\n",
       "      <td>1053.000000</td>\n",
       "      <td>1053.000000</td>\n",
       "      <td>1053.000000</td>\n",
       "      <td>1053.000000</td>\n",
       "    </tr>\n",
       "    <tr>\n",
       "      <th>mean</th>\n",
       "      <td>1.186168</td>\n",
       "      <td>0.046836</td>\n",
       "      <td>0.395806</td>\n",
       "      <td>0.023951</td>\n",
       "      <td>0.002239</td>\n",
       "      <td>0.010755</td>\n",
       "      <td>0.434783</td>\n",
       "      <td>0.000424</td>\n",
       "      <td>0.005287</td>\n",
       "      <td>0.005480</td>\n",
       "      <td>...</td>\n",
       "      <td>0.009821</td>\n",
       "      <td>0.009862</td>\n",
       "      <td>0.447852</td>\n",
       "      <td>-0.002230</td>\n",
       "      <td>0.010354</td>\n",
       "      <td>0.007754</td>\n",
       "      <td>0.446693</td>\n",
       "      <td>-0.001295</td>\n",
       "      <td>0.010111</td>\n",
       "      <td>0.007899</td>\n",
       "    </tr>\n",
       "    <tr>\n",
       "      <th>std</th>\n",
       "      <td>0.115827</td>\n",
       "      <td>0.025676</td>\n",
       "      <td>0.050673</td>\n",
       "      <td>0.016440</td>\n",
       "      <td>0.003873</td>\n",
       "      <td>0.009098</td>\n",
       "      <td>0.031772</td>\n",
       "      <td>0.007374</td>\n",
       "      <td>0.004804</td>\n",
       "      <td>0.006852</td>\n",
       "      <td>...</td>\n",
       "      <td>0.008555</td>\n",
       "      <td>0.009185</td>\n",
       "      <td>0.051263</td>\n",
       "      <td>0.014897</td>\n",
       "      <td>0.009962</td>\n",
       "      <td>0.005657</td>\n",
       "      <td>0.051642</td>\n",
       "      <td>0.014419</td>\n",
       "      <td>0.009739</td>\n",
       "      <td>0.005745</td>\n",
       "    </tr>\n",
       "    <tr>\n",
       "      <th>min</th>\n",
       "      <td>0.981000</td>\n",
       "      <td>0.021092</td>\n",
       "      <td>0.320000</td>\n",
       "      <td>0.000646</td>\n",
       "      <td>0.000883</td>\n",
       "      <td>0.001057</td>\n",
       "      <td>0.380000</td>\n",
       "      <td>-0.008290</td>\n",
       "      <td>0.000944</td>\n",
       "      <td>0.001005</td>\n",
       "      <td>...</td>\n",
       "      <td>0.000914</td>\n",
       "      <td>0.002186</td>\n",
       "      <td>0.367000</td>\n",
       "      <td>-0.021622</td>\n",
       "      <td>0.000868</td>\n",
       "      <td>0.001963</td>\n",
       "      <td>0.365000</td>\n",
       "      <td>-0.019835</td>\n",
       "      <td>0.000838</td>\n",
       "      <td>0.001959</td>\n",
       "    </tr>\n",
       "    <tr>\n",
       "      <th>25%</th>\n",
       "      <td>1.096000</td>\n",
       "      <td>0.026070</td>\n",
       "      <td>0.356000</td>\n",
       "      <td>0.007754</td>\n",
       "      <td>0.001024</td>\n",
       "      <td>0.002398</td>\n",
       "      <td>0.412000</td>\n",
       "      <td>-0.006234</td>\n",
       "      <td>0.001182</td>\n",
       "      <td>0.001741</td>\n",
       "      <td>...</td>\n",
       "      <td>0.001419</td>\n",
       "      <td>0.004396</td>\n",
       "      <td>0.408000</td>\n",
       "      <td>-0.015088</td>\n",
       "      <td>0.001628</td>\n",
       "      <td>0.003423</td>\n",
       "      <td>0.407000</td>\n",
       "      <td>-0.013878</td>\n",
       "      <td>0.001609</td>\n",
       "      <td>0.003436</td>\n",
       "    </tr>\n",
       "    <tr>\n",
       "      <th>50%</th>\n",
       "      <td>1.185000</td>\n",
       "      <td>0.046876</td>\n",
       "      <td>0.382000</td>\n",
       "      <td>0.029555</td>\n",
       "      <td>0.001145</td>\n",
       "      <td>0.013087</td>\n",
       "      <td>0.426000</td>\n",
       "      <td>0.000338</td>\n",
       "      <td>0.006166</td>\n",
       "      <td>0.004090</td>\n",
       "      <td>...</td>\n",
       "      <td>0.013126</td>\n",
       "      <td>0.008203</td>\n",
       "      <td>0.433000</td>\n",
       "      <td>-0.012573</td>\n",
       "      <td>0.012540</td>\n",
       "      <td>0.007142</td>\n",
       "      <td>0.432000</td>\n",
       "      <td>-0.010815</td>\n",
       "      <td>0.012304</td>\n",
       "      <td>0.007345</td>\n",
       "    </tr>\n",
       "    <tr>\n",
       "      <th>75%</th>\n",
       "      <td>1.240000</td>\n",
       "      <td>0.055567</td>\n",
       "      <td>0.439000</td>\n",
       "      <td>0.038604</td>\n",
       "      <td>0.001235</td>\n",
       "      <td>0.015973</td>\n",
       "      <td>0.449000</td>\n",
       "      <td>0.003220</td>\n",
       "      <td>0.007284</td>\n",
       "      <td>0.005412</td>\n",
       "      <td>...</td>\n",
       "      <td>0.015071</td>\n",
       "      <td>0.009903</td>\n",
       "      <td>0.487000</td>\n",
       "      <td>0.008457</td>\n",
       "      <td>0.014868</td>\n",
       "      <td>0.008583</td>\n",
       "      <td>0.486000</td>\n",
       "      <td>0.008689</td>\n",
       "      <td>0.014427</td>\n",
       "      <td>0.008839</td>\n",
       "    </tr>\n",
       "    <tr>\n",
       "      <th>max</th>\n",
       "      <td>1.510000</td>\n",
       "      <td>0.129581</td>\n",
       "      <td>0.503000</td>\n",
       "      <td>0.049697</td>\n",
       "      <td>0.017500</td>\n",
       "      <td>0.035883</td>\n",
       "      <td>0.514000</td>\n",
       "      <td>0.020834</td>\n",
       "      <td>0.020418</td>\n",
       "      <td>0.031660</td>\n",
       "      <td>...</td>\n",
       "      <td>0.032129</td>\n",
       "      <td>0.043097</td>\n",
       "      <td>0.559000</td>\n",
       "      <td>0.029781</td>\n",
       "      <td>0.040487</td>\n",
       "      <td>0.027361</td>\n",
       "      <td>0.557000</td>\n",
       "      <td>0.029761</td>\n",
       "      <td>0.039961</td>\n",
       "      <td>0.028184</td>\n",
       "    </tr>\n",
       "  </tbody>\n",
       "</table>\n",
       "<p>8 rows × 36 columns</p>\n",
       "</div>"
      ],
      "text/plain": [
       "                0            1            2            3            4   \\\n",
       "count  1053.000000  1053.000000  1053.000000  1053.000000  1053.000000   \n",
       "mean      1.186168     0.046836     0.395806     0.023951     0.002239   \n",
       "std       0.115827     0.025676     0.050673     0.016440     0.003873   \n",
       "min       0.981000     0.021092     0.320000     0.000646     0.000883   \n",
       "25%       1.096000     0.026070     0.356000     0.007754     0.001024   \n",
       "50%       1.185000     0.046876     0.382000     0.029555     0.001145   \n",
       "75%       1.240000     0.055567     0.439000     0.038604     0.001235   \n",
       "max       1.510000     0.129581     0.503000     0.049697     0.017500   \n",
       "\n",
       "                5            6            7            8            9   ...  \\\n",
       "count  1053.000000  1053.000000  1053.000000  1053.000000  1053.000000  ...   \n",
       "mean      0.010755     0.434783     0.000424     0.005287     0.005480  ...   \n",
       "std       0.009098     0.031772     0.007374     0.004804     0.006852  ...   \n",
       "min       0.001057     0.380000    -0.008290     0.000944     0.001005  ...   \n",
       "25%       0.002398     0.412000    -0.006234     0.001182     0.001741  ...   \n",
       "50%       0.013087     0.426000     0.000338     0.006166     0.004090  ...   \n",
       "75%       0.015973     0.449000     0.003220     0.007284     0.005412  ...   \n",
       "max       0.035883     0.514000     0.020834     0.020418     0.031660  ...   \n",
       "\n",
       "                26           27           28           29           30  \\\n",
       "count  1053.000000  1053.000000  1053.000000  1053.000000  1053.000000   \n",
       "mean      0.009821     0.009862     0.447852    -0.002230     0.010354   \n",
       "std       0.008555     0.009185     0.051263     0.014897     0.009962   \n",
       "min       0.000914     0.002186     0.367000    -0.021622     0.000868   \n",
       "25%       0.001419     0.004396     0.408000    -0.015088     0.001628   \n",
       "50%       0.013126     0.008203     0.433000    -0.012573     0.012540   \n",
       "75%       0.015071     0.009903     0.487000     0.008457     0.014868   \n",
       "max       0.032129     0.043097     0.559000     0.029781     0.040487   \n",
       "\n",
       "                31           32           33           34           35  \n",
       "count  1053.000000  1053.000000  1053.000000  1053.000000  1053.000000  \n",
       "mean      0.007754     0.446693    -0.001295     0.010111     0.007899  \n",
       "std       0.005657     0.051642     0.014419     0.009739     0.005745  \n",
       "min       0.001963     0.365000    -0.019835     0.000838     0.001959  \n",
       "25%       0.003423     0.407000    -0.013878     0.001609     0.003436  \n",
       "50%       0.007142     0.432000    -0.010815     0.012304     0.007345  \n",
       "75%       0.008583     0.486000     0.008689     0.014427     0.008839  \n",
       "max       0.027361     0.557000     0.029761     0.039961     0.028184  \n",
       "\n",
       "[8 rows x 36 columns]"
      ]
     },
     "execution_count": 11,
     "metadata": {},
     "output_type": "execute_result"
    }
   ],
   "source": [
    "pd.DataFrame(X).describe()"
   ]
  },
  {
   "cell_type": "markdown",
   "metadata": {},
   "source": [
    "Применим PCA, посмотрим на важность фичей"
   ]
  },
  {
   "cell_type": "code",
   "execution_count": 12,
   "metadata": {},
   "outputs": [],
   "source": [
    "from sklearn import preprocessing\n",
    "scaler = preprocessing.StandardScaler()\n",
    "scaler.fit(X)\n",
    "X_scaled = scaler.transform(X)\n"
   ]
  },
  {
   "cell_type": "code",
   "execution_count": 14,
   "metadata": {},
   "outputs": [
    {
     "data": {
      "text/plain": [
       "PCA(copy=True, iterated_power='auto', n_components=None, random_state=None,\n",
       "    svd_solver='auto', tol=0.0, whiten=False)"
      ]
     },
     "execution_count": 14,
     "metadata": {},
     "output_type": "execute_result"
    }
   ],
   "source": [
    "from sklearn.decomposition import PCA\n",
    "pca = PCA()\n",
    "pca.fit(X_scaled)"
   ]
  },
  {
   "cell_type": "code",
   "execution_count": 15,
   "metadata": {},
   "outputs": [
    {
     "data": {
      "text/plain": [
       "array([5.51370532e-01, 3.63229501e-01, 5.43097750e-02, 2.68486550e-02,\n",
       "       2.17692213e-03, 8.57988226e-04, 4.94115394e-04, 2.59867934e-04,\n",
       "       1.01556155e-04, 8.36156639e-05, 6.69578807e-05, 4.67235290e-05,\n",
       "       3.72588899e-05, 2.44912438e-05, 2.27230729e-05, 1.75461784e-05,\n",
       "       1.19807328e-05, 7.21955617e-06, 6.16471048e-06, 5.87801723e-06,\n",
       "       4.85616980e-06, 3.30225976e-06, 3.06403071e-06, 2.72318063e-06,\n",
       "       1.99767006e-06, 1.22348798e-06, 9.06098079e-07, 7.57694438e-07,\n",
       "       6.28143370e-07, 2.85002134e-07, 2.26633486e-07, 1.78090667e-07,\n",
       "       1.54182643e-07, 1.12416449e-07, 8.18613785e-08, 3.04346590e-08])"
      ]
     },
     "execution_count": 15,
     "metadata": {},
     "output_type": "execute_result"
    }
   ],
   "source": [
    "pca.explained_variance_ratio_"
   ]
  },
  {
   "cell_type": "code",
   "execution_count": 16,
   "metadata": {},
   "outputs": [
    {
     "data": {
      "image/png": "[encoded data removed]",
      "text/plain": [
       "<Figure size 864x504 with 1 Axes>"
      ]
     },
     "metadata": {
      "needs_background": "light"
     },
     "output_type": "display_data"
    }
   ],
   "source": [
    "plt.figure(figsize = (12, 7))\n",
    "plt.xlabel('Number of principal components')\n",
    "plt.ylabel('cumulative explained variance')\n",
    "plt.title('Explained variance plot')\n",
    "plt.plot(np.arange(pca.n_components_) + 1, np.cumsum(pca.explained_variance_ratio_))\n",
    "plt.axvline(2, c = 'r')\n",
    "plt.grid()\n",
    "plt.show()"
   ]
  },
  {
   "cell_type": "markdown",
   "metadata": {},
   "source": [
    "#### Видим, что подходящее число компонент - 5"
   ]
  },
  {
   "cell_type": "markdown",
   "metadata": {},
   "source": [
    "Попробуем визуализировать"
   ]
  },
  {
   "cell_type": "code",
   "execution_count": 18,
   "metadata": {},
   "outputs": [
    {
     "data": {
      "text/plain": [
       "PCA(copy=True, iterated_power='auto', n_components=2, random_state=None,\n",
       "    svd_solver='auto', tol=0.0, whiten=False)"
      ]
     },
     "execution_count": 18,
     "metadata": {},
     "output_type": "execute_result"
    }
   ],
   "source": [
    "pca = PCA(n_components=2)\n",
    "pca.fit(X_scaled)"
   ]
  },
  {
   "cell_type": "code",
   "execution_count": 19,
   "metadata": {},
   "outputs": [
    {
     "data": {
      "text/plain": [
       "(1053, 2)"
      ]
     },
     "execution_count": 19,
     "metadata": {},
     "output_type": "execute_result"
    }
   ],
   "source": [
    "X_reduced = pca.transform(X_scaled)\n",
    "X_reduced.shape"
   ]
  },
  {
   "cell_type": "code",
   "execution_count": 20,
   "metadata": {},
   "outputs": [
    {
     "data": {
      "text/plain": [
       "Counter({70: 324, 30: 324, 50: 324, 5: 81})"
      ]
     },
     "execution_count": 20,
     "metadata": {},
     "output_type": "execute_result"
    }
   ],
   "source": [
    "from collections import Counter\n",
    "Counter(Y)"
   ]
  },
  {
   "cell_type": "code",
   "execution_count": 21,
   "metadata": {},
   "outputs": [],
   "source": [
    "X5 = []\n",
    "X30 = []\n",
    "X50 = []\n",
    "X70 = []\n",
    "\n",
    "for i in range(len(X_reduced)):\n",
    "    if Y[i] == 5:\n",
    "        X5.append(list(X_reduced[i]))\n",
    "    if Y[i] == 30:\n",
    "        X30.append(X_reduced[i])\n",
    "    if Y[i] == 50:\n",
    "        X50.append(X_reduced[i])  \n",
    "    if Y[i] == 70:\n",
    "        X70.append(X_reduced[i]) \n",
    "X5 = np.array(X5)\n",
    "X30 = np.array(X30)\n",
    "X50 = np.array(X50)\n",
    "X70 = np.array(X70)"
   ]
  },
  {
   "cell_type": "code",
   "execution_count": 22,
   "metadata": {},
   "outputs": [
    {
     "data": {
      "text/plain": [
       "<matplotlib.legend.Legend at 0x139189f50>"
      ]
     },
     "execution_count": 22,
     "metadata": {},
     "output_type": "execute_result"
    },
    {
     "data": {
      "image/png": "[encoded data removed]",
      "text/plain": [
       "<Figure size 1080x720 with 1 Axes>"
      ]
     },
     "metadata": {
      "needs_background": "light"
     },
     "output_type": "display_data"
    }
   ],
   "source": [
    "plt.figure(figsize=(15, 10))\n",
    "plt.scatter(X5[:, 0], X5[:, 1], label = '5')\n",
    "plt.scatter(X30[:, 0], X30[:, 1], label = '30')\n",
    "plt.scatter(X50[:, 0], X50[:, 1], label = '50')\n",
    "plt.scatter(X70[:, 0], X70[:, 1], label = '70')\n",
    "\n",
    "plt.legend()\n"
   ]
  },
  {
   "cell_type": "markdown",
   "metadata": {},
   "source": [
    "Видим, что модели , которые строят не линейные разделяющие поверхности должны хорошо справляться с такими данными"
   ]
  }
 ],
 "metadata": {
  "kernelspec": {
   "display_name": "Python 3",
   "language": "python",
   "name": "python3"
  },
  "language_info": {
   "codemirror_mode": {
    "name": "ipython",
    "version": 3
   },
   "file_extension": ".py",
   "mimetype": "text/x-python",
   "name": "python",
   "nbconvert_exporter": "python",
   "pygments_lexer": "ipython3",
   "version": "3.7.4"
  }
 },
 "nbformat": 4,
 "nbformat_minor": 2
}
