{
 "cells": [
  {
   "cell_type": "markdown",
   "metadata": {},
   "source": [
    "For creating database you need to download folder from this link https://drive.google.com/drive/folders/1CiZl7wg7afYTrgK3O2Lcrs7syiSpP5MB?usp=sharing, put it in the same directory as this notebook and run the folowing code"
   ]
  },
  {
   "cell_type": "markdown",
   "metadata": {},
   "source": [
    "Or you can download ready-made database here \n",
    "https://drive.google.com/drive/folders/170FK3Ji1fy0TvJZreAKzGL0Y91fjUxa7?usp=sharing"
   ]
  },
  {
   "cell_type": "code",
   "execution_count": null,
   "metadata": {},
   "outputs": [],
   "source": [
    "import cv2\n",
    "import numpy as np\n",
    "from matplotlib import pyplot as plt\n",
    "import os\n",
    "from distutils.dir_util import copy_tree\n",
    "\n",
    "import sys\n",
    "sys.path.append('../utils')\n",
    "from add_distortions import get_horizont_motion_blur, get_vertical_motion_blur"
   ]
  },
  {
   "cell_type": "code",
   "execution_count": null,
   "metadata": {},
   "outputs": [],
   "source": [
    "\n",
    "\n",
    "'''\n",
    "The function calculates image with specified type of distortion and parametres\n",
    "If you want to add disortion, you need to write a conditional construct here \n",
    "'''\n",
    "\n",
    "def calc_distorted_image(img, distort_type, distort_param):\n",
    "    if distort_type == 'blur':\n",
    "        return cv2.blur(img, (distort_param, distort_param))\n",
    "    if distort_type == 'horizintal motion':\n",
    "        return get_horizont_motion_blur(img, kernel_size = distort_param)\n",
    "    if distort_type == 'vertical motion':\n",
    "        return get_horizont_motion_blur(img, kernel_size = distort_param)\n",
    "    if distort_type == 'Gaussian blur':\n",
    "        return cv2.GaussianBlur(img,(distort_param,distort_param),0)\n"
   ]
  },
  {
   "cell_type": "code",
   "execution_count": null,
   "metadata": {},
   "outputs": [],
   "source": [
    "'''\n",
    "\n",
    "The function gets image with specified distortion type and level of disortion\n",
    "and write this images with name which is described in 'database_description.txt'\n",
    "\n",
    "'''\n",
    "\n",
    "def get_distorted_images(distort_type, distort_params, path_to_init_images, path_to_save):\n",
    "    for img_name in os.listdir(path_to_init_images):\n",
    "        if img_name == '.DS_Store':\n",
    "            continue\n",
    "        img = cv2.imread(os.path.join(path_to_init_images, img_name))\n",
    "        for i, param in enumerate(distort_params):\n",
    "            distorted_img = calc_distorted_image(img, distort_type, param)    \n",
    "            distorted_img_name = img_name[:-4:] + '_' + str(distort[distort_type]) + '_' + str(i + 1)+ '.jpg'\n",
    "            cv2.imwrite(os.path.join(path_to_save, distorted_img_name) , distorted_img) "
   ]
  },
  {
   "cell_type": "code",
   "execution_count": null,
   "metadata": {},
   "outputs": [],
   "source": [
    "# dictionary with distortions and their keys\n",
    "distort = {'blur': 1, 'horizintal motion' : 2,  'vertical motion' : 3, 'Gaussian blur' : 4}"
   ]
  },
  {
   "cell_type": "code",
   "execution_count": null,
   "metadata": {},
   "outputs": [],
   "source": [
    "# if you run this notebook first time, uncomment this cell and run\n",
    "# os.mkdir('data/')"
   ]
  },
  {
   "cell_type": "code",
   "execution_count": null,
   "metadata": {},
   "outputs": [],
   "source": [
    "# Let's get distorted images\n",
    "get_distorted_images('blur', [10, 20, 30], path_to_init_images = '../data/initial_images/', path_to_save = 'data/')\n",
    "get_distorted_images('horizintal motion', [10, 20, 30], path_to_init_images = '../data/initial_images/', path_to_save = 'data/')\n",
    "get_distorted_images('Gaussian blur', [15, 31, 45], path_to_init_images = '../data/initial_images/', path_to_save = 'data/')\n",
    "get_distorted_images('vertical motion', [15, 30, 45], path_to_init_images = '../data/initial_images/', path_to_save = 'data/')"
   ]
  },
  {
   "cell_type": "code",
   "execution_count": null,
   "metadata": {},
   "outputs": [],
   "source": [
    "len(os.listdir('data/'))"
   ]
  },
  {
   "cell_type": "code",
   "execution_count": null,
   "metadata": {},
   "outputs": [],
   "source": [
    "\n",
    "# and we also add the initial images\n",
    "copy_tree('../data/initial_images/', 'data/')"
   ]
  },
  {
   "cell_type": "code",
   "execution_count": null,
   "metadata": {},
   "outputs": [],
   "source": [
    "len(os.listdir('data/'))"
   ]
  },
  {
   "cell_type": "code",
   "execution_count": null,
   "metadata": {},
   "outputs": [],
   "source": []
  },
  {
   "cell_type": "markdown",
   "metadata": {},
   "source": [
    "### Labeling"
   ]
  },
  {
   "cell_type": "code",
   "execution_count": null,
   "metadata": {},
   "outputs": [],
   "source": [
    "# Размечаем изображения линейно степени их искажения\n",
    "path_to_data = 'data/'\n",
    "target = {}\n",
    "for img_name in os.listdir(path_to_data):\n",
    "    if img_name == '.DS_Store':\n",
    "        continue\n",
    "    if re.match(r'img\\d+.jpg$', img_name):\n",
    "        target[img_name] = 5\n",
    "    if re.match(r'img\\d+_\\d_\\d.jpg$', img_name):\n",
    "        if img_name[-5] == '1':\n",
    "            target[img_name] = 30\n",
    "        if img_name[-5] == '2':\n",
    "            target[img_name] = 50\n",
    "        if img_name[-5] == '3':\n",
    "            target[img_name] = 70"
   ]
  },
  {
   "cell_type": "code",
   "execution_count": 4,
   "metadata": {},
   "outputs": [
    {
     "data": {
      "text/plain": [
       "Counter({70: 324, 30: 324, 50: 324, 5: 81})"
      ]
     },
     "execution_count": 4,
     "metadata": {},
     "output_type": "execute_result"
    }
   ],
   "source": [
    "from collections import Counter\n",
    "Counter(target.values())"
   ]
  },
  {
   "cell_type": "code",
   "execution_count": 1,
   "metadata": {},
   "outputs": [],
   "source": [
    "import json\n",
    "with open(\"label_map.json\", \"w\") as f:\n",
    "    json.dump(target, f)"
   ]
  }
 ],
 "metadata": {
  "kernelspec": {
   "display_name": "Python 3",
   "language": "python",
   "name": "python3"
  },
  "language_info": {
   "codemirror_mode": {
    "name": "ipython",
    "version": 3
   },
   "file_extension": ".py",
   "mimetype": "text/x-python",
   "name": "python",
   "nbconvert_exporter": "python",
   "pygments_lexer": "ipython3",
   "version": "3.7.4"
  }
 },
 "nbformat": 4,
 "nbformat_minor": 2
}
